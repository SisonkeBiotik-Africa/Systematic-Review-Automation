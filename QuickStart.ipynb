{
 "cells": [
  {
   "cell_type": "markdown",
   "id": "3629274d",
   "metadata": {},
   "source": [
    "# QuickStart"
   ]
  },
  {
   "cell_type": "markdown",
   "id": "44af97b6",
   "metadata": {},
   "source": [
    "## Step 1\n",
    "\n",
    "Use some keywords to generate a query"
   ]
  },
  {
   "cell_type": "code",
   "execution_count": 1,
   "id": "fc28d3df",
   "metadata": {},
   "outputs": [],
   "source": [
    "# Initial setup \n",
    "from step_1.generate_query import get_keywords, build_query\n",
    "import os \n",
    "from omegaconf import OmegaConf\n",
    "from datetime import datetime\n",
    "\n",
    "CONFIG_FILE_PATH = \"./configs/config.yaml\""
   ]
  },
  {
   "cell_type": "code",
   "execution_count": 2,
   "id": "2f1d6504",
   "metadata": {},
   "outputs": [
    {
     "name": "stdout",
     "output_type": "stream",
     "text": [
      "((computer vision) OR (sementation) OR (Blob discovery) OR (Blob extraction) OR (Region detection) OR (Region extraction) OR (Region labeling) OR (MSER) OR (image segmentation) OR (difference of Gaussians) OR (computer vision) OR (feature detection) OR (blob detection) OR (Pedestrian detection) OR (object detection) OR (computer vision)) OR ((African continent) OR (Ancient Libya) OR (Africa) OR (African continent) OR (Ancient Libya) OR (Africa) OR (Africa) OR (African continent) OR (Ancient Libya) OR (EGY) OR (eg) OR (Arab Rep. Egypt) OR (Arab Republic of Egypt) OR (🇪🇬) OR (Rep. Egypt) OR (africa)) OR ((induced malaria) OR (Plasmodium infection) OR (malaria) OR (baggage malaria) OR (luggage malaria) OR (suitcase malaria) OR (malaria) OR (pregnancy-associated malaria) OR (Tropical splenomegaly syndrome) OR (Plasmodium ovale malaria) OR (Plasmodium vivax malaria) OR (Plasmodium falciparum malaria) OR (Plasmodium malariae malaria) OR (mixed malaria) OR (Congenital malaria) OR (malaria))\n",
      "\n",
      "query saved as ./outputs/queries/query-2021-10-29 09:46:25.txt\n"
     ]
    }
   ],
   "source": [
    "# Get config \n",
    "with open(CONFIG_FILE_PATH, \"r\") as file:\n",
    "    config = OmegaConf.load(file)\n",
    "\n",
    "# Defining the SPARQL endpoint of Wikidata\n",
    "endpoint_url = config.endpoint_url\n",
    "\n",
    "# Get keywords \n",
    "keywords = get_keywords(config)\n",
    "\n",
    "# Build query \n",
    "query = build_query(keywords, endpoint_url)\n",
    "\n",
    "# Save query\n",
    "now = datetime.now()\n",
    "current_time = now.strftime(\"%Y-%m-%d %H:%M:%S\")\n",
    "os.makedirs(\"./outputs/queries\", exist_ok=True)\n",
    "save_path = f\"./outputs/queries/query-{current_time}.txt\"\n",
    "with open(save_path, \"w+\") as file:\n",
    "    file.write(query)\n",
    "\n",
    "# Display query to user \n",
    "print(query)\n",
    "print(f\"\\nquery saved as {save_path}\")"
   ]
  },
  {
   "cell_type": "markdown",
   "id": "6783940a",
   "metadata": {},
   "source": [
    "## Step 2 \n",
    "\n",
    "Use query to get a result... \n",
    "\n",
    "TODO step 2"
   ]
  },
  {
   "cell_type": "code",
   "execution_count": 3,
   "id": "4c047011",
   "metadata": {},
   "outputs": [],
   "source": [
    "# TODO refactor code for step 2 "
   ]
  },
  {
   "cell_type": "markdown",
   "id": "6afbbc05",
   "metadata": {},
   "source": [
    "## Step 3 \n",
    "TODO"
   ]
  },
  {
   "cell_type": "markdown",
   "id": "c78e09c0",
   "metadata": {},
   "source": [
    "## Step 4 \n",
    "TODO "
   ]
  }
 ],
 "metadata": {
  "kernelspec": {
   "display_name": "Python 3 (ipykernel)",
   "language": "python",
   "name": "python3"
  },
  "language_info": {
   "codemirror_mode": {
    "name": "ipython",
    "version": 3
   },
   "file_extension": ".py",
   "mimetype": "text/x-python",
   "name": "python",
   "nbconvert_exporter": "python",
   "pygments_lexer": "ipython3",
   "version": "3.9.7"
  }
 },
 "nbformat": 4,
 "nbformat_minor": 5
}
